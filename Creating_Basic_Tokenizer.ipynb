{
  "nbformat": 4,
  "nbformat_minor": 0,
  "metadata": {
    "colab": {
      "provenance": []
    },
    "kernelspec": {
      "name": "python3",
      "display_name": "Python 3"
    },
    "language_info": {
      "name": "python"
    }
  },
  "cells": [
    {
      "cell_type": "code",
      "source": [
        "def simple_tokenizer(text):\n",
        "    \"\"\"\n",
        "    Tokenizes input text by removing basic punctuation and splitting by spaces.\n",
        "    \"\"\"\n",
        "    punctuation = \"!.,?;:\\\"()[]{}<>\"\n",
        "    for char in punctuation:\n",
        "        text = text.replace(char, \"\")\n",
        "    text = text.lower()\n",
        "    tokens = text.split()\n",
        "    return tokens\n",
        "\n",
        "\n",
        "def main():\n",
        "    print(\"Basic Tokenizer\")\n",
        "    print(\"1. Enter text manually\")\n",
        "    print(\"2. Load text from a file\")\n",
        "\n",
        "    choice = input(\"Choose an option (1 or 2): \")\n",
        "\n",
        "    if choice == \"1\":\n",
        "        user_text = input(\"Enter the text to tokenize: \")\n",
        "    elif choice == \"2\":\n",
        "        file_path = input(\"Enter the full path of the text file: \")\n",
        "        try:\n",
        "            with open(file_path, 'r', encoding='utf-8') as file:\n",
        "                user_text = file.read()\n",
        "        except FileNotFoundError:\n",
        "            print(\"File not found. Please check the path and try again.\")\n",
        "            return\n",
        "    else:\n",
        "        print(\"Invalid option. Please enter 1 or 2.\")\n",
        "        return\n",
        "\n",
        "    tokens = simple_tokenizer(user_text)\n",
        "    print(\"\\nTokens:\", tokens)\n",
        "\n",
        "\n",
        "if __name__ == \"__main__\":\n",
        "    main()\n"
      ],
      "metadata": {
        "colab": {
          "base_uri": "https://localhost:8080/"
        },
        "id": "CVYqtbdnnQUD",
        "outputId": "32ef27fd-0379-4221-a0c6-e96d81fcf884"
      },
      "execution_count": 2,
      "outputs": [
        {
          "output_type": "stream",
          "name": "stdout",
          "text": [
            "Basic Tokenizer\n",
            "1. Enter text manually\n",
            "2. Load text from a file\n",
            "Choose an option (1 or 2): 1\n",
            "Enter the text to tokenize: A true friend is like a strong, sturdy tree: reliable, comforting, and always there for you, no matter the weather. They offer a listening ear, a helping hand, and a shoulder to cry on. A short story exploring this concept could involve a character who struggles with loneliness or a difficult situation, only to find solace and support in the unwavering friendship of another. \n",
            "\n",
            "Tokens: ['a', 'true', 'friend', 'is', 'like', 'a', 'strong', 'sturdy', 'tree', 'reliable', 'comforting', 'and', 'always', 'there', 'for', 'you', 'no', 'matter', 'the', 'weather', 'they', 'offer', 'a', 'listening', 'ear', 'a', 'helping', 'hand', 'and', 'a', 'shoulder', 'to', 'cry', 'on', 'a', 'short', 'story', 'exploring', 'this', 'concept', 'could', 'involve', 'a', 'character', 'who', 'struggles', 'with', 'loneliness', 'or', 'a', 'difficult', 'situation', 'only', 'to', 'find', 'solace', 'and', 'support', 'in', 'the', 'unwavering', 'friendship', 'of', 'another']\n"
          ]
        }
      ]
    }
  ]
}